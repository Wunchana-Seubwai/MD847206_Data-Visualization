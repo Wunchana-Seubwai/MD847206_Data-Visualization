{
 "cells": [
  {
   "cell_type": "markdown",
   "id": "bed3b500",
   "metadata": {},
   "source": [
    "# Data Visualization \n",
    "# Week 7: Advanced Data Visualization"
   ]
  },
  {
   "cell_type": "code",
   "execution_count": null,
   "id": "7d5af25a",
   "metadata": {},
   "outputs": [],
   "source": [
    "# Import Python libraries\n",
    "\n",
    "import numpy as np\n",
    "import pandas as pd\n",
    "import matplotlib.pyplot as plt\n",
    "import seaborn as sns\n",
    "import warnings\n",
    "warnings.filterwarnings('ignore')"
   ]
  },
  {
   "cell_type": "markdown",
   "id": "fae29e3e",
   "metadata": {},
   "source": [
    "# 1. Bubble plot"
   ]
  },
  {
   "cell_type": "code",
   "execution_count": null,
   "id": "42dd5f6c",
   "metadata": {},
   "outputs": [],
   "source": [
    "# pip install gapminder \n",
    "\n",
    "from gapminder import gapminder "
   ]
  },
  {
   "cell_type": "code",
   "execution_count": null,
   "id": "3b87911b",
   "metadata": {
    "scrolled": true
   },
   "outputs": [],
   "source": [
    "gapminder.sample(5)"
   ]
  },
  {
   "cell_type": "code",
   "execution_count": null,
   "id": "4593869c",
   "metadata": {},
   "outputs": [],
   "source": [
    "gapminder['year'].unique()"
   ]
  },
  {
   "cell_type": "code",
   "execution_count": null,
   "id": "d9c4a71a",
   "metadata": {},
   "outputs": [],
   "source": [
    "data = gapminder.loc[gapminder.year == 2007]\n",
    "data.sample(5)"
   ]
  },
  {
   "cell_type": "code",
   "execution_count": null,
   "id": "4669c609",
   "metadata": {},
   "outputs": [],
   "source": [
    "data.columns"
   ]
  },
  {
   "cell_type": "code",
   "execution_count": null,
   "id": "86b37b69",
   "metadata": {},
   "outputs": [],
   "source": [
    "continent_mapping = {\n",
    "    'Asia': 1,\n",
    "    'Europe': 2,\n",
    "    'Africa': 3,\n",
    "    'Americas': 4,\n",
    "    'Oceania': 5\n",
    "}"
   ]
  },
  {
   "cell_type": "code",
   "execution_count": null,
   "id": "8fc289ef",
   "metadata": {},
   "outputs": [],
   "source": [
    "data['continent_map'] = data['continent'].map(continent_mapping)"
   ]
  },
  {
   "cell_type": "code",
   "execution_count": null,
   "id": "cc61a8ed",
   "metadata": {},
   "outputs": [],
   "source": [
    "X = data['gdpPercap']\n",
    "y = data['lifeExp']\n",
    "size = data['pop']/100000   #poplutation per 100,000 \n",
    "color = data['continent_map']"
   ]
  },
  {
   "cell_type": "code",
   "execution_count": null,
   "id": "3152afa6",
   "metadata": {},
   "outputs": [],
   "source": [
    "plt.figure(figsize = (14, 8), dpi = 300)\n",
    "scatter = plt.scatter(X, y, s = size, c = color, alpha = 0.5, cmap = 'viridis')\n",
    "\n",
    "for X_val, y_val, country in zip(X, y, data['country']):\n",
    "    plt.text(X_val, y_val, country, fontsize = 6, ha = 'left', va = 'center')    \n",
    "    \n",
    "plt.xlabel(\"GDP per capita (USD)\", size = 14)\n",
    "plt.ylabel(\"Life Expectancy (Years)\", size = 14)\n",
    "\n",
    "# Create a dictionary to map continent_map values back to continent names\n",
    "continent_mapping_inv = {v: k for k, v in continent_mapping.items()}\n",
    "\n",
    "# Create legend label\n",
    "legend_labels = [continent_mapping_inv[continent_num] for continent_num in data['continent_map'].unique()]\n",
    "\n",
    "# Add legend label\n",
    "plt.legend(handles=scatter.legend_elements()[0], \n",
    "               labels=legend_labels, \n",
    "               loc = 'lower right',\n",
    "               fontsize=14)\n",
    "\n",
    "plt.show()"
   ]
  },
  {
   "cell_type": "markdown",
   "id": "4ec8a1db",
   "metadata": {},
   "source": [
    "## Plotly "
   ]
  },
  {
   "cell_type": "code",
   "execution_count": null,
   "id": "17b58ac1",
   "metadata": {},
   "outputs": [],
   "source": [
    "# Please install plotly and U kaleido \n",
    "# pip install plotly\n",
    "# pip install -U kaleido \n",
    "\n",
    "import plotly.express as px"
   ]
  },
  {
   "cell_type": "code",
   "execution_count": null,
   "id": "2760c4ef",
   "metadata": {
    "scrolled": false
   },
   "outputs": [],
   "source": [
    "# Creating the bubble plot using Plotly library \n",
    "\n",
    "fig = px.scatter(data,                                     # Input data\n",
    "                 x = \"gdpPercap\",                          # The column to be used as the X axis\n",
    "                 y = \"lifeExp\",                                 # The column to be used as the y axis\n",
    "                 size = \"pop\",                                 # The column to be used as size of the markers \n",
    "                 color = \"continent\",                       # The column used to assign different colors to markers\n",
    "                 hover_name = \"country\",              # The column used to display when hovering over data points\n",
    "                 log_x = True,  \n",
    "                 size_max = 60)                            # Maximum marker size\n",
    "\n",
    "# Update x-axis and y-axis labels\n",
    "fig.update_xaxes(title_text = \"GDP per Capita (USD)\")\n",
    "fig.update_yaxes(title_text = \"Life Expectancy (Years)\")  \n",
    "\n",
    "# Update legend title\n",
    "fig.update_layout(legend_title_text = \"Continent\")\n",
    "\n",
    "# Set the figure size\n",
    "fig.update_layout(width = 800,  height = 500)\n",
    "\n",
    "# Export the figure \n",
    "#fig.write_image(\"bubble_plot.png\", scale=3.0)\n",
    "\n",
    "# Show the plot\n",
    "fig.show()"
   ]
  },
  {
   "cell_type": "code",
   "execution_count": null,
   "id": "f1684be3",
   "metadata": {},
   "outputs": [],
   "source": [
    "#Print out the names of the color scales\n",
    "\n",
    "plotly_colorscales = px.colors.named_colorscales()\n",
    "sorted_colorscales = sorted(plotly_colorscales)\n",
    "print(sorted_colorscales)"
   ]
  },
  {
   "cell_type": "code",
   "execution_count": null,
   "id": "305398f0",
   "metadata": {
    "scrolled": false
   },
   "outputs": [],
   "source": [
    "#  View the built-in sequential color scales in plotly.colors.sequential module. \n",
    "\n",
    "fig = px.colors.sequential.swatches_continuous()\n",
    "fig.show()"
   ]
  },
  {
   "cell_type": "markdown",
   "id": "fa6731bd",
   "metadata": {},
   "source": [
    "## 2. Treemap "
   ]
  },
  {
   "cell_type": "code",
   "execution_count": null,
   "id": "71c334a1",
   "metadata": {
    "scrolled": false
   },
   "outputs": [],
   "source": [
    "# Create Treemap using Plotly library \n",
    "\n",
    "fig = px.treemap(data, \n",
    "                 path = ['continent', 'country'],    # The hierarchy of categories for creating the treemap.\n",
    "                 values = 'gdpPercap',               # The values used to determine the size of the treemap.\n",
    "                 color = 'lifeExp',                        # The values used to determine the color of the treemap.\n",
    "                 hover_data = ['pop'],                #  Additional data columns to display when hovering over treemap .\n",
    "                 color_continuous_scale = 'viridis',\n",
    "                 title = 'Treemap Visualization')\n",
    "\n",
    "# Set the title location\n",
    "fig.update_layout(title_x = 0.45, title_y = 0.9) \n",
    "\n",
    "# Set the layout margins\n",
    "fig.update_layout(margin = dict(t = 75, l = 25, r = 25, b = 25))\n",
    "\n",
    "# Save Figure into png file\n",
    "#fig.write_image(\"gapminder_treemap.png\", width=1200, height=800, scale=3)\n",
    "\n",
    "fig.show()"
   ]
  },
  {
   "cell_type": "markdown",
   "id": "d9efce60",
   "metadata": {},
   "source": [
    "## 3. 3D scatter plot"
   ]
  },
  {
   "cell_type": "code",
   "execution_count": null,
   "id": "9664d4fc",
   "metadata": {},
   "outputs": [],
   "source": [
    "from sklearn.preprocessing import LabelEncoder"
   ]
  },
  {
   "cell_type": "code",
   "execution_count": null,
   "id": "041e4276",
   "metadata": {},
   "outputs": [],
   "source": [
    "# Read the 'Breast_Cancer_Wisconsin.csv' file into a DataFrame\n",
    "\n",
    "df = pd.read_csv('Breast_Cancer_Wisconsin.csv')\n",
    "df.sample(5)"
   ]
  },
  {
   "cell_type": "code",
   "execution_count": null,
   "id": "520e6b11",
   "metadata": {},
   "outputs": [],
   "source": [
    "df['cancer_normal'] = LabelEncoder().fit_transform(df['diagnosis'])"
   ]
  },
  {
   "cell_type": "code",
   "execution_count": null,
   "id": "e546f4ab",
   "metadata": {},
   "outputs": [],
   "source": [
    "# Import the Axes3D class from the mpl_toolkits.mplot3d module.\n",
    "\n",
    "from mpl_toolkits.mplot3d import Axes3D"
   ]
  },
  {
   "cell_type": "code",
   "execution_count": null,
   "id": "c4ad9ebe",
   "metadata": {},
   "outputs": [],
   "source": [
    "# Create 3D scatter plot using Matplotlib \n",
    "fig = plt.figure(figsize = (6, 4), dpi = 300)\n",
    "ax = fig.add_subplot(111, projection='3d')    # Add a 3D subplot to the figure\n",
    "\n",
    "x = df['radius_mean']\n",
    "y = df['texture_mean']\n",
    "z = df['perimeter_mean']\n",
    "color = df['cancer_normal']\n",
    "\n",
    "scatter = ax.scatter(x, y, z, c = color)  # Create the scatter plot\n",
    " \n",
    "ax.set_xlabel('Radius')\n",
    "ax.set_ylabel('Texture')\n",
    "ax.set_zlabel('Perimeter')\n",
    "ax.set_title('3D Scatter Plot')\n",
    "\n",
    "# Add a legend label\n",
    "plt.legend(*scatter.legend_elements(), bbox_to_anchor = (1, 1), loc = 2)\n",
    "\n",
    "plt.show()"
   ]
  },
  {
   "cell_type": "code",
   "execution_count": null,
   "id": "45d0809f",
   "metadata": {},
   "outputs": [],
   "source": [
    "# Create 3D scatter plot using Plotly\n",
    "\n",
    "fig = px.scatter_3d(df, \n",
    "                    x = 'radius_mean', \n",
    "                    y = 'texture_mean', \n",
    "                    z = 'perimeter_mean',\n",
    "                    color = 'diagnosis')\n",
    "\n",
    "#fig.write_image(\"3d_scatter.png\", scale=3.0)\n",
    "\n",
    "fig.show()"
   ]
  },
  {
   "cell_type": "markdown",
   "id": "e8442bb3",
   "metadata": {},
   "source": [
    "## 4. Choropleth map"
   ]
  },
  {
   "cell_type": "code",
   "execution_count": null,
   "id": "1677a2c6",
   "metadata": {},
   "outputs": [],
   "source": [
    "# Create a Choropleth map\n",
    "fig = px.choropleth(data,\n",
    "            locations = \"country\",          # Specify the geographical locations (countries) for the map.\n",
    "            color = \"gdpPercap\",           # The color intensity of the map.\n",
    "            hover_name = \"country\",    # Display country names when hovering over map.\n",
    "            locationmode = \"country names\",     # The mode for interpreting the location data.\n",
    "            title = \"Choropleth Map\",                   \n",
    "            color_continuous_scale = \"rainbow\"\n",
    ")\n",
    "\n",
    "fig.update_layout(\n",
    "    margin = dict(t= 25, l=0, r=0, b=10),\n",
    "    width = 600,  \n",
    "    height = 400  \n",
    ")\n",
    "\n",
    "fig.update_layout(title_x = 0.45, title_y = 0.9) \n",
    "\n",
    "fig.show()"
   ]
  },
  {
   "cell_type": "code",
   "execution_count": null,
   "id": "c42ce9b7",
   "metadata": {},
   "outputs": [],
   "source": []
  }
 ],
 "metadata": {
  "kernelspec": {
   "display_name": "Python 3 (ipykernel)",
   "language": "python",
   "name": "python3"
  },
  "language_info": {
   "codemirror_mode": {
    "name": "ipython",
    "version": 3
   },
   "file_extension": ".py",
   "mimetype": "text/x-python",
   "name": "python",
   "nbconvert_exporter": "python",
   "pygments_lexer": "ipython3",
   "version": "3.9.13"
  }
 },
 "nbformat": 4,
 "nbformat_minor": 5
}
