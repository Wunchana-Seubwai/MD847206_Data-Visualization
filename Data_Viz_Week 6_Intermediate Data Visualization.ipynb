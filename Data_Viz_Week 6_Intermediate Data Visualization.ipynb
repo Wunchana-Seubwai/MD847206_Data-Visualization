{
 "cells": [
  {
   "cell_type": "markdown",
   "id": "2d60195e",
   "metadata": {},
   "source": [
    "# Data Visualization \n",
    "# Week 6: Intermediate Data Visualization"
   ]
  },
  {
   "cell_type": "code",
   "execution_count": null,
   "id": "f4e42344",
   "metadata": {},
   "outputs": [],
   "source": [
    "import numpy as np\n",
    "import pandas as pd\n",
    "import matplotlib.pyplot as plt\n",
    "import seaborn as sns"
   ]
  },
  {
   "cell_type": "code",
   "execution_count": null,
   "id": "e4c5f04c",
   "metadata": {},
   "outputs": [],
   "source": [
    "# Read the model file into a DataFrame\n",
    "\n",
    "df = pd.read_csv('data.csv')\n",
    "df.sample(5)"
   ]
  },
  {
   "cell_type": "code",
   "execution_count": null,
   "id": "5f8c1097",
   "metadata": {},
   "outputs": [],
   "source": [
    "# Print the information about dataset\n",
    "\n",
    "print(df.info())"
   ]
  },
  {
   "cell_type": "code",
   "execution_count": null,
   "id": "d62f71e5",
   "metadata": {},
   "outputs": [],
   "source": [
    "# Count missing values in DataFrame\n",
    "print(df.isna().sum())"
   ]
  },
  {
   "cell_type": "code",
   "execution_count": null,
   "id": "4c1d465d",
   "metadata": {},
   "outputs": [],
   "source": [
    "df_dropna = df.dropna()\n",
    "df_dropna.isna().sum()"
   ]
  },
  {
   "cell_type": "code",
   "execution_count": null,
   "id": "d4566974",
   "metadata": {},
   "outputs": [],
   "source": [
    "df_dropna.describe().round(2)"
   ]
  },
  {
   "cell_type": "code",
   "execution_count": null,
   "id": "8ea0217e",
   "metadata": {},
   "outputs": [],
   "source": [
    "df_dropna.columns"
   ]
  },
  {
   "cell_type": "markdown",
   "id": "68e92464",
   "metadata": {},
   "source": [
    "## Box plot"
   ]
  },
  {
   "cell_type": "code",
   "execution_count": null,
   "id": "143c7812",
   "metadata": {},
   "outputs": [],
   "source": [
    "col = ['Age', 'BMI', 'Glucose', 'Insulin', 'HOMA', 'Leptin', 'Adiponectin', 'Resistin']\n",
    "data = df_dropna[col]"
   ]
  },
  {
   "cell_type": "code",
   "execution_count": null,
   "id": "f65c75b7",
   "metadata": {},
   "outputs": [],
   "source": [
    "plt.figure(figsize = (10, 6), dpi = 300)\n",
    "\n",
    "# Create the box plot\n",
    "plt.boxplot(data.values, labels = data.columns)\n",
    "\n",
    "# Set the title and labels\n",
    "plt.title(\"Figure Title\", fontsize=16)\n",
    "plt.xlabel(\"X-axis\", fontsize=14)\n",
    "plt.ylabel(\"Y-axis\", fontsize=14)\n",
    "plt.xticks(rotation = 45)  \n",
    "\n",
    "plt.show()"
   ]
  },
  {
   "cell_type": "code",
   "execution_count": null,
   "id": "b1e194ec",
   "metadata": {},
   "outputs": [],
   "source": [
    "plt.figure(figsize=(10, 6), dpi = 300)\n",
    "\n",
    "# Create the horizontal box plot \n",
    "plt.boxplot(data.values, labels = data.columns, vert=False)\n",
    "\n",
    "plt.title(\"Figure Title\", fontsize=16)\n",
    "plt.xlabel(\"X-axis\", fontsize=14)\n",
    "plt.ylabel(\"Y-axis\", fontsize=14)\n",
    "\n",
    "plt.show()"
   ]
  },
  {
   "cell_type": "code",
   "execution_count": null,
   "id": "a830d128",
   "metadata": {
    "scrolled": true
   },
   "outputs": [],
   "source": [
    "plt.figure(figsize = (10, 6), dpi = 300)\n",
    "\n",
    "# Create subplots for each column\n",
    "for i, column in enumerate(data.columns):\n",
    "    plt.subplot(2, 4, i+1)\n",
    "    plt.boxplot(data[column])\n",
    "    plt.ylabel(column)\n",
    "    plt.xticks(fontsize = 10)\n",
    "    plt.xticks([])  # Hide x-axis\n",
    "\n",
    "# Adjust layout and spacing between subplots\n",
    "plt.tight_layout()\n",
    "plt.show()"
   ]
  },
  {
   "cell_type": "markdown",
   "id": "797c5997",
   "metadata": {},
   "source": [
    "## Histogram "
   ]
  },
  {
   "cell_type": "code",
   "execution_count": null,
   "id": "aee5c4dd",
   "metadata": {},
   "outputs": [],
   "source": [
    "plt.figure(figsize=(4, 3))\n",
    "\n",
    "#Create Histogram\n",
    "plt.hist(data['Age'], bins='auto', edgecolor='black')  \n",
    "\n",
    "plt.title(\"Histogram: Age\", fontsize=16)\n",
    "plt.xlabel('Age', fontsize=14)\n",
    "plt.ylabel('Frequency', fontsize=14)\n",
    "\n",
    "plt.show()"
   ]
  },
  {
   "cell_type": "code",
   "execution_count": null,
   "id": "cda0bc62",
   "metadata": {},
   "outputs": [],
   "source": [
    "# Define binning methods\n",
    "bin = ['auto', 'sturges', 'sqrt', 'fd']\n",
    "bin_method = ['Auto', 'Sturges', 'Square Root', 'Freedman and Diaconis']"
   ]
  },
  {
   "cell_type": "code",
   "execution_count": null,
   "id": "adf6c6b3",
   "metadata": {},
   "outputs": [],
   "source": [
    "plt.figure(figsize=(5, 5))\n",
    "\n",
    "# Create Histograms using different binning methods\n",
    "for i, method in enumerate(bin):\n",
    "    plt.subplot(2, 2, i + 1)\n",
    "    plt.hist(data['Age'], bins = method, edgecolor='black')\n",
    "    plt.title(f\"{bin_method[i]}\", fontsize=14)\n",
    "    plt.xlabel('Age', fontsize=12)\n",
    "    plt.ylabel('Frequency', fontsize=12)\n",
    "\n",
    "plt.tight_layout()\n",
    "plt.show()"
   ]
  },
  {
   "cell_type": "code",
   "execution_count": null,
   "id": "3a8c73c7",
   "metadata": {},
   "outputs": [],
   "source": [
    "# Histogram with kernel density estimate (KDE)\n",
    "\n",
    "plt.figure(figsize = (5, 5))\n",
    "\n",
    "for i, method in enumerate(bin):\n",
    "    plt.subplot(2, 2, i + 1)\n",
    "    plt.hist(data['Age'], bins = method, density = True, edgecolor = 'black')\n",
    "    # Add kernel density estimate (KDE)\n",
    "    sns.kdeplot(data['Age'], color = 'red')  \n",
    "    plt.title(f\"{bin_method[i]}\", fontsize = 14)\n",
    "    plt.xlabel('Age', fontsize = 12)\n",
    "    plt.ylabel('Frequency', fontsize = 12)\n",
    "\n",
    "plt.tight_layout()\n",
    "plt.show()"
   ]
  },
  {
   "cell_type": "markdown",
   "id": "d4ee3c91",
   "metadata": {},
   "source": [
    "## Violin Plot"
   ]
  },
  {
   "cell_type": "code",
   "execution_count": null,
   "id": "4c545a9d",
   "metadata": {},
   "outputs": [],
   "source": [
    "plt.figure(figsize = (10, 6), dpi = 300)\n",
    "\n",
    "# Create a violin plot\n",
    "plt.violinplot(data, showmedians = True)\n",
    " \n",
    "plt.title(\"Figure Title\", fontsize = 16)\n",
    "plt.xlabel(\"X-axis\", fontsize = 14)\n",
    "plt.ylabel(\"Y-axis\", fontsize = 14)\n",
    "plt.xticks(ticks = range(1, len(data.columns) + 1), labels = data.columns, rotation = 45)\n",
    "\n",
    "plt.show()"
   ]
  },
  {
   "cell_type": "markdown",
   "id": "8549cbde",
   "metadata": {},
   "source": [
    "## Correlation matrix"
   ]
  },
  {
   "cell_type": "code",
   "execution_count": null,
   "id": "8b6941bb",
   "metadata": {},
   "outputs": [],
   "source": [
    "# Calculate the correlation matrix\n",
    "\n",
    "corr_matrix = data.corr().round(3)\n",
    "corr_matrix"
   ]
  },
  {
   "cell_type": "code",
   "execution_count": null,
   "id": "1992b671",
   "metadata": {},
   "outputs": [],
   "source": [
    "# Correlation matrix using seaborn\n",
    "\n",
    "plt.figure(figsize = (6, 5), dpi = 300)\n",
    "sns.heatmap(corr_matrix, annot = True, cmap = 'coolwarm')\n",
    "plt.xticks(rotation = 45)\n",
    "plt.show()"
   ]
  },
  {
   "cell_type": "code",
   "execution_count": null,
   "id": "0108533e",
   "metadata": {},
   "outputs": [],
   "source": [
    "# Correlation matrix with masking \n",
    "\n",
    "# Applying mask\n",
    "mask = np.tril(np.ones_like(corr_matrix))\n",
    "\n",
    "# Plotting a triangle correlation heatmap\n",
    "plt.figure(figsize=(6, 4), dpi = 300)\n",
    "sns.heatmap(corr_matrix, annot = True, mask = mask, cmap = 'coolwarm')\n",
    "plt.title('Correlation Matrix', fontsize = 16)\n",
    "\n",
    "plt.show()"
   ]
  },
  {
   "cell_type": "code",
   "execution_count": null,
   "id": "cb8c7897",
   "metadata": {},
   "outputs": [],
   "source": []
  }
 ],
 "metadata": {
  "kernelspec": {
   "display_name": "Python 3 (ipykernel)",
   "language": "python",
   "name": "python3"
  },
  "language_info": {
   "codemirror_mode": {
    "name": "ipython",
    "version": 3
   },
   "file_extension": ".py",
   "mimetype": "text/x-python",
   "name": "python",
   "nbconvert_exporter": "python",
   "pygments_lexer": "ipython3",
   "version": "3.9.13"
  }
 },
 "nbformat": 4,
 "nbformat_minor": 5
}
