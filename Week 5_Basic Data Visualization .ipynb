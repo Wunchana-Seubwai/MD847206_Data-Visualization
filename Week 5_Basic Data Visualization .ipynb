{
 "cells": [
  {
   "cell_type": "markdown",
   "id": "3bccddbb",
   "metadata": {},
   "source": [
    "# Week 5_Basic Data Visualization "
   ]
  },
  {
   "cell_type": "code",
   "execution_count": null,
   "id": "419b3fc0",
   "metadata": {},
   "outputs": [],
   "source": [
    "import matplotlib.pyplot as plt\n",
    "import numpy as np"
   ]
  },
  {
   "cell_type": "markdown",
   "id": "4344b4d0",
   "metadata": {},
   "source": [
    "## Customize Plots in Matplotlib"
   ]
  },
  {
   "cell_type": "code",
   "execution_count": null,
   "id": "80f76e3e",
   "metadata": {},
   "outputs": [],
   "source": [
    "plt.figure(figsize = (4, 4))\n",
    "plt.plot([1, 2, 3, 4], [1, 4, 9, 16],  \n",
    "         label='Line 1', \n",
    "         color = 'blue', \n",
    "         ls = '-',\n",
    "        marker = 'o')\n",
    "plt.plot([1, 2, 3, 4], [1, 2, 3, 4], \n",
    "         label='Line 2', \n",
    "         color = 'green', \n",
    "         ls = '--',\n",
    "        marker = '*')\n",
    "plt.plot([1, 2, 3, 4], [4, 3, 2, 1], \n",
    "         label='Line 3', \n",
    "         color = 'red', \n",
    "         ls = ':',\n",
    "        marker = 'x')\n",
    "plt.xlabel('X-axis Label')\n",
    "plt.ylabel('Y-axis Label')\n",
    "plt.title('Figure Title')\n",
    "plt.legend()\n",
    "plt.savefig('plot.jpg', dpi = 300)\n",
    "plt.show()"
   ]
  },
  {
   "cell_type": "markdown",
   "id": "12e0378b",
   "metadata": {},
   "source": [
    "### Style Plots using Matplotlib"
   ]
  },
  {
   "cell_type": "code",
   "execution_count": null,
   "id": "d15772bd",
   "metadata": {},
   "outputs": [],
   "source": [
    "fig = plt.figure(figsize=(7, 2.5), tight_layout=True, dpi = 300)\n",
    "plot_style = ['default', 'ggplot', 'seaborn'] \n",
    "\n",
    "for i, style in enumerate(plot_style):\n",
    "    with plt.style.context(style):\n",
    "        ax = fig.add_subplot(1, 3, i + 1)\n",
    "        ax.plot([1, 2, 3, 4], [1, 4, 9, 16])\n",
    "    ax.set_title(style)"
   ]
  },
  {
   "cell_type": "markdown",
   "id": "0ec145d6",
   "metadata": {},
   "source": [
    "## Stacking Subplots in One Direction"
   ]
  },
  {
   "cell_type": "code",
   "execution_count": null,
   "id": "baeceff3",
   "metadata": {},
   "outputs": [],
   "source": [
    "x1 = [1, 2, 3, 4]\n",
    "y1 = [1, 4, 9, 16]\n",
    "y2 = [1, 2, 3, 4] \n",
    "y3 = [4, 3, 2, 1]\n",
    "y4 = [8, 6, 4, 2]"
   ]
  },
  {
   "cell_type": "code",
   "execution_count": null,
   "id": "82567a38",
   "metadata": {},
   "outputs": [],
   "source": [
    "fig, axs = plt.subplots(1, 4, figsize=(10, 3))\n",
    "\n",
    "\n",
    "axs[0].plot(x1, y1)\n",
    "axs[0].set_title('Plot 1')\n",
    "axs[1].plot(x1, y2)\n",
    "axs[1].set_title('Plot 2')\n",
    "axs[2].plot(x1, y3)\n",
    "axs[2].set_title('Plot 3')\n",
    "axs[3].plot(x1, y4)\n",
    "axs[3].set_title('Plot 4')\n",
    "\n",
    "\n",
    "plt.tight_layout()\n",
    "plt.show()\n"
   ]
  },
  {
   "cell_type": "markdown",
   "id": "20fe1c08",
   "metadata": {},
   "source": [
    "## Stacking Subplots in Two Directions"
   ]
  },
  {
   "cell_type": "code",
   "execution_count": null,
   "id": "f4f10d0e",
   "metadata": {
    "scrolled": true
   },
   "outputs": [],
   "source": [
    "fig, axs = plt.subplots(2, 2, figsize=(5, 5))\n",
    "\n",
    "axs[0, 0].plot(x1, y1)\n",
    "axs[0, 0].set_title('Plot 1')\n",
    "axs[0, 1].plot(x1, y2)\n",
    "axs[0, 1].set_title('Plot 2')\n",
    "axs[1, 0].plot(x1, y3)\n",
    "axs[1, 0].set_title('Plot 3')\n",
    "axs[1, 1].plot(x1, y4)\n",
    "axs[1, 1].set_title('Plot 4')\n",
    "\n",
    "plt.tight_layout()\n",
    "plt.show()"
   ]
  },
  {
   "cell_type": "markdown",
   "id": "a16cd893",
   "metadata": {},
   "source": [
    "## Subplots with Sharing Axis"
   ]
  },
  {
   "cell_type": "code",
   "execution_count": null,
   "id": "fca5308e",
   "metadata": {},
   "outputs": [],
   "source": [
    "fig, axs = plt.subplots(2, 2, figsize=(5, 5), sharex=True, sharey=True)\n",
    "\n",
    "axs[0, 0].plot(x1, y1)\n",
    "axs[0, 0].set_title('Plot 1')\n",
    "axs[0, 1].plot(x1, y2)\n",
    "axs[0, 1].set_title('Plot 2')\n",
    "axs[1, 0].plot(x1, y3)\n",
    "axs[1, 0].set_title('Plot 3')\n",
    "axs[1, 1].plot(x1, y4)\n",
    "axs[1, 1].set_title('Plot 4')\n",
    "\n",
    "plt.tight_layout()\n",
    "plt.show()"
   ]
  },
  {
   "cell_type": "markdown",
   "id": "ebb822c5",
   "metadata": {},
   "source": [
    "## Scatter plot"
   ]
  },
  {
   "cell_type": "code",
   "execution_count": null,
   "id": "50771f3d",
   "metadata": {},
   "outputs": [],
   "source": [
    "x = [2, 5, 7, 11, 15, 18, 21, 25, 30, 35]\n",
    "y = [10, 15, 12, 20, 25, 18, 30, 22, 35, 28]"
   ]
  },
  {
   "cell_type": "code",
   "execution_count": null,
   "id": "28312be6",
   "metadata": {},
   "outputs": [],
   "source": [
    "plt.figure(figsize = (4, 3))\n",
    "plt.scatter(x, y, c = \"red\")\n",
    "plt.xlabel('X-axis')\n",
    "plt.ylabel('Y-axis')\n",
    "plt.title('Scatter plot')\n",
    "plt.show()"
   ]
  },
  {
   "cell_type": "markdown",
   "id": "5cda7d87",
   "metadata": {},
   "source": [
    "## Bar chart"
   ]
  },
  {
   "cell_type": "code",
   "execution_count": null,
   "id": "409290e2",
   "metadata": {},
   "outputs": [],
   "source": [
    "cancer_types = ['Breast Cancer', 'Lung Cancer', 'Prostate Cancer', 'Colon Cancer']\n",
    "survival_days = [365, 156, 1300, 256]"
   ]
  },
  {
   "cell_type": "code",
   "execution_count": null,
   "id": "67b6a221",
   "metadata": {},
   "outputs": [],
   "source": [
    "plt.figure(figsize = (5, 3), dpi = 300)\n",
    "plt.bar(cancer_types, survival_days)\n",
    "plt.xlabel('Cancer Types')\n",
    "plt.ylabel('Survival (Days)')\n",
    "plt.title('Cancer survival rates')\n",
    "plt.xticks(rotation = 45)\n",
    "plt.show()"
   ]
  },
  {
   "cell_type": "code",
   "execution_count": null,
   "id": "b6cb8da6",
   "metadata": {},
   "outputs": [],
   "source": []
  }
 ],
 "metadata": {
  "kernelspec": {
   "display_name": "Python 3 (ipykernel)",
   "language": "python",
   "name": "python3"
  },
  "language_info": {
   "codemirror_mode": {
    "name": "ipython",
    "version": 3
   },
   "file_extension": ".py",
   "mimetype": "text/x-python",
   "name": "python",
   "nbconvert_exporter": "python",
   "pygments_lexer": "ipython3",
   "version": "3.9.13"
  }
 },
 "nbformat": 4,
 "nbformat_minor": 5
}
